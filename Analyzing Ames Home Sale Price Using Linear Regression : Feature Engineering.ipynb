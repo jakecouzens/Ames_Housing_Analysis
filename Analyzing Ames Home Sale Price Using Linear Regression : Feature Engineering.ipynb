{
 "cells": [
  {
   "cell_type": "markdown",
   "metadata": {
    "collapsed": true
   },
   "source": [
    "# Building a Linear Regression Model to Predict Housing Sale Prices in Ames, Iowa\n",
    "\n",
    "In this project we'll be analyzing the Ames, Iowa housing dataset, collected between 2006-2010. \n",
    "\n",
    "Our goal is to build a model using Linear Regression that accurately predicts the sale prices of homes given the features in the dataset. \n",
    "\n",
    "To do so we'll need to do some feature engineering, hyperparameter optimization, and finally feature selection to optimize the accuracy of our LR model. \n",
    "\n",
    "The dataset can be found at https://www.kaggle.com/c/house-prices-advanced-regression-techniques"
   ]
  },
  {
   "cell_type": "markdown",
   "metadata": {},
   "source": [
    "# Setting up functions to iterate on different models \n",
    "\n",
    "We'll begin by creating functions to transform, select, and train/test features on the model. "
   ]
  },
  {
   "cell_type": "code",
   "execution_count": 1,
   "metadata": {
    "collapsed": true
   },
   "outputs": [],
   "source": [
    "import pandas as pd \n",
    "import matplotlib.pyplot as plt\n",
    "%matplotlib inline\n",
    "import numpy as np \n",
    "from sklearn.linear_model import LinearRegression\n",
    "import seaborn as sns\n",
    "from sklearn.metrics import mean_squared_error\n",
    "from sklearn.model_selection import KFold\n",
    "\n",
    "\n",
    "data = pd.read_csv('AmesHousing.tsv', delimiter = '\\t')\n"
   ]
  },
  {
   "cell_type": "code",
   "execution_count": 2,
   "metadata": {
    "collapsed": false
   },
   "outputs": [
    {
     "data": {
      "text/plain": [
       "57088.25161263909"
      ]
     },
     "execution_count": 2,
     "metadata": {},
     "output_type": "execute_result"
    }
   ],
   "source": [
    "def transform_features(df):\n",
    "    return df\n",
    "\n",
    "def select_features(df):\n",
    "    return df[['Gr Liv Area', 'SalePrice']]\n",
    "\n",
    "def train_and_test(df):\n",
    "    train = df[:1460]\n",
    "    test = df[1460:]\n",
    "    lr = LinearRegression()\n",
    "    numeric_train = train.select_dtypes(include = [np.number])\n",
    "    numeric_test = test.select_dtypes(include = [np.number])\n",
    "    features = numeric_train.columns.drop('SalePrice')\n",
    "    lr.fit(train[features], train['SalePrice'])\n",
    "    predictions = lr.predict(test[features])\n",
    "    rmse = (mean_squared_error(test['SalePrice'],predictions))**.5\n",
    "    return rmse\n",
    "\n",
    "df = pd.read_csv('AmesHousing.tsv', delimiter = '\\t')\n",
    "transformed_df = transform_features(df)\n",
    "selected_df = select_features(transformed_df)\n",
    "rmse = train_and_test(selected_df)\n",
    "rmse"
   ]
  },
  {
   "cell_type": "markdown",
   "metadata": {},
   "source": [
    "# Feature Engineering\n",
    "1. Drop columns with >5% missing values. \n",
    "2. Create new features by combining others.\n",
    "3. Remove features that leak data about the final sale\n",
    "5. Transform features into proper format (numerical to categorical, scaling numerical, fill in missing values)\n",
    "4. Update functions to return new datasets with the above changes  to preserve contents of the originals."
   ]
  },
  {
   "cell_type": "markdown",
   "metadata": {
    "collapsed": true
   },
   "source": [
    "### Dealing with missing values\n",
    "First step - drop columns with >5% missing values:"
   ]
  },
  {
   "cell_type": "code",
   "execution_count": 3,
   "metadata": {
    "collapsed": false
   },
   "outputs": [],
   "source": [
    "data_null_counts = (data.isnull().sum() / len(data))\n",
    "data_null_counts = data_null_counts[data_null_counts > .05]\n",
    "data = data.drop(data_null_counts.index, axis = 1)"
   ]
  },
  {
   "cell_type": "markdown",
   "metadata": {},
   "source": [
    "Second step - drop text columns with missing values:"
   ]
  },
  {
   "cell_type": "code",
   "execution_count": 4,
   "metadata": {
    "collapsed": false
   },
   "outputs": [],
   "source": [
    "data_missing_text = data.select_dtypes(include = ['object'])\n",
    "data_missing_text = data_missing_text.isnull().sum()\n",
    "data = data.drop(data_missing_text[data_missing_text > 0].index, axis = 1)"
   ]
  },
  {
   "cell_type": "markdown",
   "metadata": {},
   "source": [
    "Third step - fill missing values in numeric columns with column mode:"
   ]
  },
  {
   "cell_type": "code",
   "execution_count": 5,
   "metadata": {
    "collapsed": false
   },
   "outputs": [
    {
     "data": {
      "text/plain": [
       "0    64\n",
       "dtype: int64"
      ]
     },
     "execution_count": 5,
     "metadata": {},
     "output_type": "execute_result"
    }
   ],
   "source": [
    "data_numeric = data.select_dtypes(include = ['float','int'])\n",
    "data_numeric = data_numeric.mode()\n",
    "data = data.fillna(data_numeric.mode())\n",
    "data[data.isnull().any(axis=1)] = 0\n",
    "data.isnull().sum().value_counts()"
   ]
  },
  {
   "cell_type": "markdown",
   "metadata": {},
   "source": [
    "We now have zero missing values in the entire dataframe."
   ]
  },
  {
   "cell_type": "markdown",
   "metadata": {},
   "source": [
    "### Creating New Features\n",
    "We can create some features using existing ones."
   ]
  },
  {
   "cell_type": "markdown",
   "metadata": {},
   "source": [
    "Age of the house when sold:"
   ]
  },
  {
   "cell_type": "code",
   "execution_count": 6,
   "metadata": {
    "collapsed": false
   },
   "outputs": [
    {
     "data": {
      "text/plain": [
       "2180   -1\n",
       "dtype: int64"
      ]
     },
     "execution_count": 6,
     "metadata": {},
     "output_type": "execute_result"
    }
   ],
   "source": [
    "years_existed = data['Yr Sold'] - data['Year Built']\n",
    "years_existed[years_existed<0]"
   ]
  },
  {
   "cell_type": "markdown",
   "metadata": {},
   "source": [
    "Years since renovated before sold:"
   ]
  },
  {
   "cell_type": "code",
   "execution_count": 7,
   "metadata": {
    "collapsed": false
   },
   "outputs": [
    {
     "data": {
      "text/plain": [
       "1702   -1\n",
       "2180   -2\n",
       "2181   -1\n",
       "dtype: int64"
      ]
     },
     "execution_count": 7,
     "metadata": {},
     "output_type": "execute_result"
    }
   ],
   "source": [
    "years_renovated = data['Yr Sold'] - data['Year Remod/Add']\n",
    "years_renovated[years_renovated<0]"
   ]
  },
  {
   "cell_type": "code",
   "execution_count": 8,
   "metadata": {
    "collapsed": false
   },
   "outputs": [],
   "source": [
    "data['Years Until Sold'] = years_existed\n",
    "data['Years Since Remod'] = years_renovated\n",
    "data = data.drop([1702, 2180, 2181], axis = 0) #remove columns with negative values \n",
    "data = data.drop(['Yr Sold', 'Year Remod/Add', 'Year Built'], axis = 1) # drop columns we used for new features"
   ]
  },
  {
   "cell_type": "markdown",
   "metadata": {},
   "source": [
    "### Drop non-useful columns\n",
    "We'll now drop columns that aren't useful for Machine Learning, and also leak data about the final sale."
   ]
  },
  {
   "cell_type": "code",
   "execution_count": 9,
   "metadata": {
    "collapsed": false
   },
   "outputs": [],
   "source": [
    "\n",
    "## Drop columns that aren't useful for ML\n",
    "data = data.drop([\"PID\", \"Order\"], axis=1)\n",
    "\n",
    "## Drop columns that leak info about the final sale\n",
    "data = data.drop([\"Mo Sold\", \"Sale Condition\", \"Sale Type\"], axis=1)"
   ]
  },
  {
   "cell_type": "markdown",
   "metadata": {},
   "source": [
    "### Normalize numeric columns\n",
    "Scale numeric columns to be weighted equally in analysis"
   ]
  },
  {
   "cell_type": "code",
   "execution_count": 10,
   "metadata": {
    "collapsed": true
   },
   "outputs": [],
   "source": [
    "data_num = df.select_dtypes(include = [np.number])\n",
    "data_normalized = (data_num - data_num.min()) / (data_num.max() - data_num.min())"
   ]
  },
  {
   "cell_type": "markdown",
   "metadata": {},
   "source": [
    "### Create dummy columns to analyze categoricals\n",
    "Some of our columns have a few categories - we can create dummy columns to grant them more analytical ability in the context of Linear Regression:"
   ]
  },
  {
   "cell_type": "code",
   "execution_count": 11,
   "metadata": {
    "collapsed": false
   },
   "outputs": [],
   "source": [
    "dummy_cols = pd.DataFrame()\n",
    "text_cols = data.select_dtypes(include = ['object']).columns\n",
    "for col in text_cols:\n",
    "    col_dummies = pd.get_dummies(data[col])\n",
    "    data = pd.concat([data, col_dummies],axis=1)\n",
    "    del data[col]\n"
   ]
  },
  {
   "cell_type": "markdown",
   "metadata": {},
   "source": [
    "### Update transform_features\n",
    "Now we can update transform_features to affect all of these changes on the housing dataframe:"
   ]
  },
  {
   "cell_type": "code",
   "execution_count": 12,
   "metadata": {
    "collapsed": false
   },
   "outputs": [
    {
     "data": {
      "text/plain": [
       "54457.687147718774"
      ]
     },
     "execution_count": 12,
     "metadata": {},
     "output_type": "execute_result"
    }
   ],
   "source": [
    "def transform_features(df):\n",
    "    #drop columns with 5% or more missing values\n",
    "    data_null_counts = (df.isnull().sum() / len(df))\n",
    "    data_null_counts = data_null_counts[data_null_counts > .05]\n",
    "    df = df.drop(data_null_counts.index, axis = 1)\n",
    "    \n",
    "    # drop text columns with missing values\n",
    "    data_missing_text = df.select_dtypes(include = ['object'])\n",
    "    data_missing_text = data_missing_text.isnull().sum()\n",
    "    df = df.drop(data_missing_text[data_missing_text > 0].index, axis = 1)\n",
    "    \n",
    "    # fill missing numeric values with column mode: \n",
    "    data_numeric = df.select_dtypes(include = [np.number])\n",
    "    data_numeric = data_numeric.mode()\n",
    "    df = df.fillna(data_numeric)\n",
    "    df[df.isnull().any(axis=1)] = 0\n",
    "    \n",
    "    # create new features\n",
    "    years_existed = df['Yr Sold'] - df['Year Built']\n",
    "    years_renovated = df['Yr Sold'] - df['Year Remod/Add']\n",
    "    df['Years Until Sold'] = years_existed\n",
    "    df['Years Since Remod'] = years_renovated\n",
    "    \n",
    "    # remove negative rows and remove columns used for new features\n",
    "    df = df.drop([1702, 2180, 2181], axis = 0) \n",
    "    df = df.drop(['Yr Sold', 'Year Remod/Add', 'Year Built'], axis = 1)\n",
    "    \n",
    "    ## Drop columns that aren't useful for ML\n",
    "    df = df.drop([\"PID\", \"Order\"], axis=1)\n",
    "\n",
    "    ## Drop columns that leak info about the final sale\n",
    "    df = df.drop([\"Mo Sold\", \"Sale Condition\", \"Sale Type\"], axis=1)\n",
    "    \n",
    "    # Normalize numeric columns:\n",
    "    data_num = df.select_dtypes(include = [np.number])\n",
    "    data_normalized = (data_num - data_num.min()) / (data_num.max() - data_num.min())\n",
    "    \n",
    "    return df\n",
    "\n",
    "def select_features(df):\n",
    "    return df[['Gr Liv Area', 'SalePrice']]\n",
    "\n",
    "def train_and_test(df):\n",
    "    train = df[:1460]\n",
    "    test = df[1460:]\n",
    "    lr = LinearRegression()\n",
    "    numeric_train = train.select_dtypes(include = [np.number])\n",
    "    numeric_test = test.select_dtypes(include = [np.number])\n",
    "    features = numeric_train.columns.drop('SalePrice')\n",
    "    lr.fit(train[features], train['SalePrice'])\n",
    "    predictions = lr.predict(test[features])\n",
    "    rmse = (mean_squared_error(test['SalePrice'],predictions))**.5\n",
    "    return rmse\n",
    "\n",
    "df = pd.read_csv('AmesHousing.tsv', delimiter = '\\t')\n",
    "transformed_df = transform_features(df)\n",
    "selected_df = select_features(transformed_df)\n",
    "rmse = train_and_test(selected_df)\n",
    "rmse"
   ]
  },
  {
   "cell_type": "markdown",
   "metadata": {},
   "source": [
    "## Selecting Features\n",
    "### Correlation to target column\n",
    "Let's analyze how correlated our current numeric columns are to our target column:"
   ]
  },
  {
   "cell_type": "code",
   "execution_count": 13,
   "metadata": {
    "collapsed": false
   },
   "outputs": [
    {
     "data": {
      "text/plain": [
       "<matplotlib.axes._subplots.AxesSubplot at 0x7f562cc17f98>"
      ]
     },
     "execution_count": 13,
     "metadata": {},
     "output_type": "execute_result"
    },
    {
     "data": {
      "image/png": "[encoded data removed]",
      "text/plain": [
       "<matplotlib.figure.Figure at 0x7f562cc6af60>"
      ]
     },
     "metadata": {},
     "output_type": "display_data"
    }
   ],
   "source": [
    "new_numeric = transformed_df.select_dtypes(include=[np.number])\n",
    "corrs = abs(new_numeric.corr()['SalePrice'])\n",
    "strong_cors = corrs[corrs > .3] #minimum +- .3 correlation \n",
    "corrmat = transformed_df[strong_cors.index].corr()\n",
    "sns.heatmap(corrmat)"
   ]
  },
  {
   "cell_type": "markdown",
   "metadata": {},
   "source": [
    "Strongly (over .5) positively correlated columns listed below:"
   ]
  },
  {
   "cell_type": "code",
   "execution_count": 14,
   "metadata": {
    "collapsed": false
   },
   "outputs": [
    {
     "data": {
      "text/plain": [
       "SalePrice        1.000000\n",
       "Overall Qual     0.804133\n",
       "Gr Liv Area      0.733590\n",
       "Garage Cars      0.663178\n",
       "Total Bsmt SF    0.662479\n",
       "1st Flr SF       0.658570\n",
       "Garage Area      0.655627\n",
       "Full Bath        0.570179\n",
       "TotRms AbvGrd    0.530703\n",
       "Mas Vnr Area     0.512655\n",
       "Name: SalePrice, dtype: float64"
      ]
     },
     "execution_count": 14,
     "metadata": {},
     "output_type": "execute_result"
    }
   ],
   "source": [
    "corrmat = corrmat[corrmat['SalePrice'] > .5]['SalePrice'].sort_values(ascending = False)\n",
    "corrmat"
   ]
  },
  {
   "cell_type": "markdown",
   "metadata": {},
   "source": [
    "We also notice that the pairs (Gr Liv Area, TotRms AbvGrd) and (Garage Cars, Garage Area) exhibit signs of collinearity, which can skew our regression. So we will remove TotRms AbvGrd and Garage Cars as they aren't continuous. "
   ]
  },
  {
   "cell_type": "code",
   "execution_count": 15,
   "metadata": {
    "collapsed": false
   },
   "outputs": [],
   "source": [
    "corrmat = corrmat.index.drop(['TotRms AbvGrd', 'Garage Cars', 'SalePrice'])"
   ]
  },
  {
   "cell_type": "code",
   "execution_count": 16,
   "metadata": {
    "collapsed": false
   },
   "outputs": [
    {
     "data": {
      "text/plain": [
       "['Overall Qual',\n",
       " 'Gr Liv Area',\n",
       " 'Total Bsmt SF',\n",
       " '1st Flr SF',\n",
       " 'Garage Area',\n",
       " 'Full Bath',\n",
       " 'Mas Vnr Area']"
      ]
     },
     "execution_count": 16,
     "metadata": {},
     "output_type": "execute_result"
    }
   ],
   "source": [
    "list(corrmat) # list of columns that have a high correlation to SalePrice"
   ]
  },
  {
   "cell_type": "markdown",
   "metadata": {},
   "source": [
    "### Categorical Data Columns\n",
    "\n",
    "We need to evaluate which nominal variable columns should be converted to categorical data (using dummy columns). Converting all of these types would add hundreds of columns to the dataframe.\n",
    "\n",
    "We'll look for columns with a few unique values that have less than 95% of the same value. "
   ]
  },
  {
   "cell_type": "code",
   "execution_count": 17,
   "metadata": {
    "collapsed": false
   },
   "outputs": [
    {
     "data": {
      "text/plain": [
       "{'Bldg Type': 6,\n",
       " 'Central Air': 3,\n",
       " 'Condition 2': 9,\n",
       " 'Foundation': 7,\n",
       " 'Heating': 7,\n",
       " 'House Style': 9,\n",
       " 'Land Contour': 5,\n",
       " 'Lot Config': 6,\n",
       " 'MS Zoning': 8,\n",
       " 'Roof Matl': 9,\n",
       " 'Roof Style': 7,\n",
       " 'Street': 3}"
      ]
     },
     "execution_count": 17,
     "metadata": {},
     "output_type": "execute_result"
    }
   ],
   "source": [
    "nominal_cols = [\"PID\", \"MS SubClass\", \"MS Zoning\", \"Street\", \"Alley\", \"Land Contour\", \"Lot Config\", \"Neighborhood\", \n",
    "                    \"Condition 1\", \"Condition 2\", \"Bldg Type\", \"House Style\", \"Roof Style\", \"Roof Matl\", \"Exterior 1st\", \n",
    "                    \"Exterior 2nd\", \"Mas Vnr Type\", \"Foundation\", \"Heating\", \"Central Air\", \"Garage Type\", \"Misc Feature\", \"Sale Type\", \"Sale Condition\"]\n",
    "col_unique_vals = {}\n",
    "for col in nominal_cols:\n",
    "    if (col in transformed_df.columns):\n",
    "        if (len(transformed_df[col].value_counts()) < 10):\n",
    "            col_unique_vals[col] = len(transformed_df[col].value_counts())\n",
    "col_unique_vals\n",
    "    "
   ]
  },
  {
   "cell_type": "markdown",
   "metadata": {},
   "source": [
    "12 columns could be good for dummy columns. Now let's check their distribution:"
   ]
  },
  {
   "cell_type": "code",
   "execution_count": 18,
   "metadata": {
    "collapsed": false
   },
   "outputs": [
    {
     "data": {
      "text/plain": [
       "['Central Air',\n",
       " 'Lot Config',\n",
       " 'MS Zoning',\n",
       " 'Roof Style',\n",
       " 'Bldg Type',\n",
       " 'Foundation',\n",
       " 'Land Contour',\n",
       " 'House Style']"
      ]
     },
     "execution_count": 18,
     "metadata": {},
     "output_type": "execute_result"
    }
   ],
   "source": [
    "categorical_cols = []\n",
    "low_variance_cols = []\n",
    "for col in col_unique_vals:\n",
    "    vals = transformed_df[col].value_counts(normalize = True)*100\n",
    "    if vals.values[0] < 95:\n",
    "        categorical_cols.append(col)\n",
    "    else:\n",
    "        low_variance_cols.append(col)\n",
    "categorical_cols"
   ]
  },
  {
   "cell_type": "markdown",
   "metadata": {},
   "source": [
    "8 columns with enough variance to be made into dummy columns. Let's drop the unused nominal columns and examine the remaining 8:"
   ]
  },
  {
   "cell_type": "code",
   "execution_count": 19,
   "metadata": {
    "collapsed": false
   },
   "outputs": [
    {
     "data": {
      "text/html": [
       "<div>\n",
       "<style scoped>\n",
       "    .dataframe tbody tr th:only-of-type {\n",
       "        vertical-align: middle;\n",
       "    }\n",
       "\n",
       "    .dataframe tbody tr th {\n",
       "        vertical-align: top;\n",
       "    }\n",
       "\n",
       "    .dataframe thead th {\n",
       "        text-align: right;\n",
       "    }\n",
       "</style>\n",
       "<table border=\"1\" class=\"dataframe\">\n",
       "  <thead>\n",
       "    <tr style=\"text-align: right;\">\n",
       "      <th></th>\n",
       "      <th>Central Air</th>\n",
       "      <th>Lot Config</th>\n",
       "      <th>MS Zoning</th>\n",
       "      <th>Roof Style</th>\n",
       "      <th>Bldg Type</th>\n",
       "      <th>Foundation</th>\n",
       "      <th>Land Contour</th>\n",
       "      <th>House Style</th>\n",
       "    </tr>\n",
       "  </thead>\n",
       "  <tbody>\n",
       "    <tr>\n",
       "      <th>0</th>\n",
       "      <td>Y</td>\n",
       "      <td>Corner</td>\n",
       "      <td>RL</td>\n",
       "      <td>Hip</td>\n",
       "      <td>1Fam</td>\n",
       "      <td>CBlock</td>\n",
       "      <td>Lvl</td>\n",
       "      <td>1Story</td>\n",
       "    </tr>\n",
       "  </tbody>\n",
       "</table>\n",
       "</div>"
      ],
      "text/plain": [
       "  Central Air Lot Config MS Zoning Roof Style Bldg Type Foundation  \\\n",
       "0           Y     Corner        RL        Hip      1Fam     CBlock   \n",
       "\n",
       "  Land Contour House Style  \n",
       "0          Lvl      1Story  "
      ]
     },
     "execution_count": 19,
     "metadata": {},
     "output_type": "execute_result"
    }
   ],
   "source": [
    "transformed_df = transformed_df.drop(low_variance_cols, axis=1)\n",
    "transformed_df[categorical_cols].head(1)"
   ]
  },
  {
   "cell_type": "markdown",
   "metadata": {},
   "source": [
    "All 8 are textual columns. Let's convert to dummy columns, add them to the dataframe, and drop the originals:`"
   ]
  },
  {
   "cell_type": "code",
   "execution_count": 20,
   "metadata": {
    "collapsed": false
   },
   "outputs": [
    {
     "name": "stdout",
     "output_type": "stream",
     "text": [
      "(2927, 54)\n",
      "(2927, 97)\n"
     ]
    }
   ],
   "source": [
    "# Seperate text columns into dummy columns to encourage analytics\n",
    "print(transformed_df.shape)\n",
    "dummy_cols = pd.DataFrame()\n",
    "for col in categorical_cols:\n",
    "    col_dummies = pd.get_dummies(transformed_df[col])\n",
    "    transformed_df = pd.concat([transformed_df, col_dummies],axis=1)\n",
    "    del transformed_df[col]\n",
    "    \n",
    "print(transformed_df.shape)\n"
   ]
  },
  {
   "cell_type": "markdown",
   "metadata": {},
   "source": [
    "### Update select_features & train_and_test\n",
    "\n",
    "Finally we will update select_features with the modifications we outlined above.\n",
    "\n",
    "We will also update our train and test / RMSE calculation to take a k-value, which will determine how we validate our data before performing our regression. \n",
    "\n",
    "When k=0 we will perform our holdout validation (already implemented above).\n",
    "\n",
    "When k=1 we will perform simple cross validation (two folds, training and testing on one another, and computing average RMSE).\n",
    "\n",
    "When k > 0, we will perform k-fold cross validation using k number of folds. "
   ]
  },
  {
   "cell_type": "code",
   "execution_count": 67,
   "metadata": {
    "collapsed": false
   },
   "outputs": [
    {
     "name": "stdout",
     "output_type": "stream",
     "text": [
      "[50155.920219404834, 31229.97185567249, 27808.159503470255, 24593.808533392883, 28321.40145689664, 27474.4079665482, 23941.49142100155, 29160.044636104194, 29051.348449649973, 28567.820760952363]\n"
     ]
    },
    {
     "data": {
      "text/plain": [
       "30030.437480309338"
      ]
     },
     "execution_count": 67,
     "metadata": {},
     "output_type": "execute_result"
    }
   ],
   "source": [
    "def transform_features(df):\n",
    "    #drop columns with 5% or more missing values\n",
    "    data_null_counts = (df.isnull().sum() / len(df))\n",
    "    data_null_counts = data_null_counts[data_null_counts > .05]\n",
    "    df = df.drop(data_null_counts.index, axis = 1)\n",
    "    \n",
    "    # drop text columns with missing values\n",
    "    data_missing_text = df.select_dtypes(include = ['object'])\n",
    "    data_missing_text = data_missing_text.isnull().sum()\n",
    "    df = df.drop(data_missing_text[data_missing_text > 0].index, axis = 1)\n",
    "    \n",
    "    # fill missing numeric values with column mode: \n",
    "    data_numeric = df.select_dtypes(include = [np.number])\n",
    "    data_numeric = data_numeric.mode()\n",
    "    df = df.fillna(data_numeric)\n",
    "    df = df.fillna(0)\n",
    "    \n",
    "    # create new features\n",
    "    years_existed = df['Yr Sold'] - df['Year Built']\n",
    "    years_renovated = df['Yr Sold'] - df['Year Remod/Add']\n",
    "    df['Years Until Sold'] = years_existed\n",
    "    df['Years Since Remod'] = years_renovated\n",
    "    \n",
    "    # remove negative rows and remove columns used for new features\n",
    "    df = df.drop([1702, 2180, 2181], axis = 0) \n",
    "    df = df.drop(['Yr Sold', 'Year Remod/Add', 'Year Built'], axis = 1)\n",
    "    \n",
    "    # drop columns that aren't useful for ML\n",
    "    df = df.drop([\"PID\", \"Order\"], axis=1)\n",
    "\n",
    "    # drop columns that leak info about the final sale\n",
    "    df = df.drop([\"Mo Sold\", \"Sale Condition\", \"Sale Type\"], axis=1)\n",
    "    \n",
    "    # normalize numeric columns:\n",
    "    data_num = df.select_dtypes(include = [np.number])\n",
    "    data_normalized = (data_num - data_num.min()) / (data_num.max() - data_num.min())\n",
    "    \n",
    "    return df\n",
    "\n",
    "def select_features(df):\n",
    "    # designate nominal columns that have less than 10 unique values\n",
    "    nominal_cols = [\"PID\", \"MS SubClass\", \"MS Zoning\", \"Street\", \"Alley\", \"Land Contour\", \"Lot Config\", \"Neighborhood\", \n",
    "                        \"Condition 1\", \"Condition 2\", \"Bldg Type\", \"House Style\", \"Roof Style\", \"Roof Matl\", \"Exterior 1st\", \n",
    "                        \"Exterior 2nd\", \"Mas Vnr Type\", \"Foundation\", \"Heating\", \"Central Air\", \"Garage Type\", \"Misc Feature\", \"Sale Type\", \"Sale Condition\"]\n",
    "    col_unique_vals = {}\n",
    "    for col in nominal_cols:\n",
    "        if (col in df.columns):\n",
    "            if (len(df[col].value_counts()) < 10):\n",
    "                col_unique_vals[col] = len(df[col].value_counts())\n",
    "    \n",
    "    # filter remaining nominal columns to those with higher variance\n",
    "    categorical_cols = []\n",
    "    low_variance_cols = []\n",
    "    for col in col_unique_vals:\n",
    "        vals = df[col].value_counts(normalize = True)*100\n",
    "        if vals.values[0] < 95:\n",
    "            categorical_cols.append(col)\n",
    "        else:\n",
    "            low_variance_cols.append(col)\n",
    "    \n",
    "    # drop low variance nominal columns\n",
    "    df = df.drop(low_variance_cols, axis=1)\n",
    "    \n",
    "    # transform nominal columns to categorical and remove original columns\n",
    "    dummy_cols = pd.DataFrame()\n",
    "    for col in categorical_cols:\n",
    "        col_dummies = pd.get_dummies(df[col])\n",
    "        df = pd.concat([df, col_dummies],axis=1)\n",
    "        del df[col]\n",
    "    return df\n",
    "\n",
    "def train_and_test(df, k=0):\n",
    "    numeric_df = df.select_dtypes(include=['integer', 'float'])\n",
    "    features = numeric_df.columns.drop(\"SalePrice\")\n",
    "    lr = LinearRegression()\n",
    "\n",
    "    if k == 0:\n",
    "        train = df[:1460]\n",
    "        test = df[1460:]\n",
    "        lr.fit(train[features], train['SalePrice'])\n",
    "        predictions = lr.predict(test[features])\n",
    "        rmse = (mean_squared_error(test['SalePrice'],predictions))**.5\n",
    "        return rmse\n",
    "    \n",
    "    if k == 1:\n",
    "        df = df.sample(frac=1).reset_index(drop=True)\n",
    "        fold_one = df[:1460]\n",
    "        fold_two = df[1460:]\n",
    "        lr.fit(fold_one[features], fold_one['SalePrice'])\n",
    "        predictions_one = lr.predict(fold_two[features])\n",
    "        rmse_one = (mean_squared_error(fold_two['SalePrice'],predictions_one))**.5\n",
    "        \n",
    "        lr.fit(fold_two[features], fold_two['SalePrice'])\n",
    "        predictions_two = lr.predict(fold_one[features])\n",
    "        rmse_two = (mean_squared_error(fold_one['SalePrice'],predictions_two))**.5\n",
    "        return np.mean([rmse_one,rmse_two])\n",
    "    \n",
    "    else:\n",
    "        kf = KFold(n_splits=k, shuffle=True, random_state=1)\n",
    "        rmse_values = []\n",
    "        for train_index, test_index, in kf.split(df):\n",
    "            train = df.iloc[train_index]\n",
    "            test = df.iloc[test_index]\n",
    "            lr.fit(train[features], train[\"SalePrice\"])\n",
    "            predictions = lr.predict(test[features])\n",
    "            mse = mean_squared_error(test[\"SalePrice\"], predictions)\n",
    "            rmse = np.sqrt(mse)\n",
    "            rmse_values.append(rmse)\n",
    "        print(rmse_values)\n",
    "        avg_rmse = np.mean(rmse_values)\n",
    "        return avg_rmse\n",
    "    \n",
    "df = pd.read_csv('AmesHousing.tsv', delimiter = '\\t')\n",
    "transformed_df = transform_features(df)\n",
    "selected_df = select_features(transformed_df)\n",
    "rmse = train_and_test(selected_df, k = 10)\n",
    "rmse"
   ]
  },
  {
   "cell_type": "markdown",
   "metadata": {},
   "source": [
    "After updating select_features and train_and_test to utilize k-fold cross validation, we were able to lower our average RMSE value to roughly 30,000 dollars (which was effectively a 45% refuction in error versus our previous attempt)! \n",
    "\n",
    "Additionally, we can look deeper into the rmse values and notice that at k=7, we managed to bring the RMSE all the way down to 23,491.\n",
    "\n",
    "Given that the average home Saleprice was 180,766, this means that our method of prediction is accurate within 16.6% using average RMSE, and 13% using k=7!"
   ]
  },
  {
   "cell_type": "code",
   "execution_count": 68,
   "metadata": {
    "collapsed": false
   },
   "outputs": [
    {
     "data": {
      "text/plain": [
       "180766.5664502904"
      ]
     },
     "execution_count": 68,
     "metadata": {},
     "output_type": "execute_result"
    }
   ],
   "source": [
    "transformed_df['SalePrice'].mean()"
   ]
  }
 ],
 "metadata": {
  "anaconda-cloud": {},
  "kernelspec": {
   "display_name": "Python 3",
   "language": "python",
   "name": "python3"
  },
  "language_info": {
   "codemirror_mode": {
    "name": "ipython",
    "version": 3
   },
   "file_extension": ".py",
   "mimetype": "text/x-python",
   "name": "python",
   "nbconvert_exporter": "python",
   "pygments_lexer": "ipython3",
   "version": "3.4.3"
  }
 },
 "nbformat": 4,
 "nbformat_minor": 2
}
